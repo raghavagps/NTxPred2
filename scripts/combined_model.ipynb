{
 "cells": [
  {
   "cell_type": "code",
   "execution_count": null,
   "id": "6ab09d86-13e7-46c8-b2b5-f6711b082379",
   "metadata": {},
   "outputs": [
    {
     "name": "stderr",
     "output_type": "stream",
     "text": [
      "Some weights of EsmForSequenceClassification were not initialized from the model checkpoint at facebook/esm2_t30_150M_UR50D and are newly initialized: ['classifier.dense.bias', 'classifier.dense.weight', 'classifier.out_proj.bias', 'classifier.out_proj.weight']\n",
      "You should probably TRAIN this model on a down-stream task to be able to use it for predictions and inference.\n"
     ]
    },
    {
     "name": "stdout",
     "output_type": "stream",
     "text": [
      "Starting initial training...\n",
      "\n"
     ]
    }
   ],
   "source": [
    "import pandas as pd\n",
    "import numpy as np\n",
    "from sklearn.model_selection import StratifiedKFold\n",
    "from sklearn.ensemble import ExtraTreesClassifier\n",
    "import joblib\n",
    "import warnings\n",
    "warnings.filterwarnings(\"ignore\")\n",
    "\n",
    "# ------------------- Load and Prepare Data -------------------\n",
    "\n",
    "# Step 1: Load Data\n",
    "train = pd.read_csv(\"example_combined_sequence.csv\")\n",
    "\n",
    "# Step 2: Extract Features and Labels\n",
    "x_train = train\n",
    "y_train = train['Label']\n",
    "\n",
    "# Step 3: Selected Features (by index as string)\n",
    "selected_features = [\"3\", \"11\", \"13\", \"14\", \"15\", \"29\", \"38\", \"78\", \"95\", \"97\", \"98\", \"102\", \"105\", \"112\", \"115\", \"119\", \n",
    "                \"123\", \"143\", \"144\", \"169\", \"171\", \"187\", \"196\", \"199\", \"217\", \"224\", \"236\", \"240\", \"241\", \"247\", \n",
    "                \"250\", \"261\", \"269\", \"277\", \"279\", \"280\", \"288\", \"291\", \"324\", \"331\", \"341\", \"345\", \"352\", \"375\", \n",
    "                \"382\", \"385\", \"388\", \"393\", \"400\", \"409\", \"412\", \"418\", \"426\", \"431\", \"445\", \"446\", \"450\", \"455\", \n",
    "                \"456\", \"463\", \"465\", \"471\", \"473\", \"475\", \"495\", \"499\", \"508\", \"509\", \"512\", \"517\", \"524\", \"526\", \n",
    "                \"553\", \"586\", \"595\", \"607\", \"613\", \"618\", \"619\", \"620\", \"630\", \"632\", \"634\", \"639\"]\n",
    "\n",
    "# Convert feature indices from string to integer\n",
    "selected_features = list(map(int, selected_features))\n",
    "\n",
    "# Step 4: Subset DataFrames using selected features\n",
    "x_train = x_train.iloc[:, selected_features]\n",
    "\n",
    "# Step 5: Reset Indices (Optional)\n",
    "x_train.reset_index(drop=True, inplace=True)\n",
    "\n",
    "\n",
    "# ------------------- Cross-Validation and Testing -------------------\n",
    "\n",
    "classifier_list = [\n",
    "    ExtraTreesClassifier(criterion='entropy', n_estimators=200, n_jobs=-1, random_state=42),\n",
    "]\n",
    "\n",
    "final_metrics = []\n",
    "\n",
    "for clf in classifier_list:\n",
    "    print(f\"\\n🔍 Training: {clf}\")\n",
    "    skf = StratifiedKFold(n_splits=5, random_state=42, shuffle=True)\n",
    "    # ---- Cross-validation ----\n",
    "    for train_idx, test_idx in skf.split(x_train, y_train):\n",
    "        train_p = x_train.iloc[train_idx]\n",
    "        test_p = x_train.iloc[test_idx]\n",
    "        train_y = y_train.iloc[train_idx]\n",
    "        test_y = y_train.iloc[test_idx]\n",
    "\n",
    "        clf.fit(train_p, train_y)\n",
    "        \n",
    "# ------------------- Save Trained Model -------------------\n",
    "\n",
    "joblib.dump(clf, \"protein_dataset_et_model_sk_1_6_0.pkl\")\n",
    "print(\"✅ Model saved as: protein_dataset_et_model_sk_1_6_0.pkl\")"
   ]
  },
  {
   "cell_type": "code",
   "execution_count": null,
   "id": "84263417-edee-4ae5-9ed2-0f765ae50bec",
   "metadata": {},
   "outputs": [],
   "source": []
  }
 ],
 "metadata": {
  "kernelspec": {
   "display_name": "Python 3 (ipykernel)",
   "language": "python",
   "name": "python3"
  },
  "language_info": {
   "codemirror_mode": {
    "name": "ipython",
    "version": 3
   },
   "file_extension": ".py",
   "mimetype": "text/x-python",
   "name": "python",
   "nbconvert_exporter": "python",
   "pygments_lexer": "ipython3",
   "version": "3.12.2"
  }
 },
 "nbformat": 4,
 "nbformat_minor": 5
}
